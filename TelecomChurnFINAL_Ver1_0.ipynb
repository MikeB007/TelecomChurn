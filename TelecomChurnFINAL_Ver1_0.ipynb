{
  "nbformat": 4,
  "nbformat_minor": 0,
  "metadata": {
    "colab": {
      "name": "TelecomChurnFINAL_Ver1.0.ipynb",
      "version": "0.3.2",
      "provenance": [],
      "collapsed_sections": []
    },
    "kernelspec": {
      "name": "python3",
      "display_name": "Python 3"
    }
  },
  "cells": [
    {
      "metadata": {
        "collapsed": true,
        "id": "yktxXXs_t-4Z",
        "colab_type": "text"
      },
      "cell_type": "markdown",
      "source": [
        "## ML Model creation using  Keras(Neural Networks)\n",
        "Student: Chris Kogut\n",
        "\n",
        "UofT 2019\n",
        "\n",
        "Predicting customer churn usin(Keras).\n",
        "\n",
        "Dataset contains 21 columns and 333 records\n"
      ]
    },
    {
      "metadata": {
        "id": "2oDDu54_t-4a",
        "colab_type": "code",
        "colab": {}
      },
      "cell_type": "code",
      "source": [
        "#import libraries\n",
        "import pandas as pd\n",
        "import numpy as np\n",
        "from sklearn.model_selection import train_test_split\n",
        "import tensorflow as tf\n",
        "import keras\n"
      ],
      "execution_count": 0,
      "outputs": []
    },
    {
      "metadata": {
        "colab_type": "code",
        "id": "t5cqjaJ1Jdaa",
        "colab": {}
      },
      "cell_type": "code",
      "source": [
        "np.random.seed(23)\n",
        "classes= 2"
      ],
      "execution_count": 0,
      "outputs": []
    },
    {
      "metadata": {
        "id": "cfYUXrJxyY5w",
        "colab_type": "code",
        "outputId": "1f6ddb78-cfd8-4578-9038-92e8b899f3cd",
        "colab": {
          "base_uri": "https://localhost:8080/",
          "height": 35
        }
      },
      "cell_type": "code",
      "source": [
        "#prepare axccess to GDrive\n",
        "#Mount your Google drive so you can read them easilu\n",
        "from google.colab import drive\n",
        "drive.mount('/content/gdrive')"
      ],
      "execution_count": 0,
      "outputs": [
        {
          "output_type": "stream",
          "text": [
            "Drive already mounted at /content/gdrive; to attempt to forcibly remount, call drive.mount(\"/content/gdrive\", force_remount=True).\n"
          ],
          "name": "stdout"
        }
      ]
    },
    {
      "metadata": {
        "id": "F6oYGJWyvItR",
        "colab_type": "code",
        "colab": {}
      },
      "cell_type": "code",
      "source": [
        "# Import data\n",
        "filePath =\"/content/gdrive/My Drive/Colab Notebooks/ProjectTelecom/churn.csv\"\n",
        "data = pd.read_csv(filePath)\n",
        "#data = np.loadtxt(filePath,delimiter=\",\")"
      ],
      "execution_count": 0,
      "outputs": []
    },
    {
      "metadata": {
        "id": "fSmJDseRMpT0",
        "colab_type": "code",
        "outputId": "7d3a5edb-421d-4ee1-9c27-0e529b116dd5",
        "colab": {
          "base_uri": "https://localhost:8080/",
          "height": 331
        }
      },
      "cell_type": "code",
      "source": [
        "data.head(5)"
      ],
      "execution_count": 0,
      "outputs": [
        {
          "output_type": "execute_result",
          "data": {
            "text/html": [
              "<div>\n",
              "<style scoped>\n",
              "    .dataframe tbody tr th:only-of-type {\n",
              "        vertical-align: middle;\n",
              "    }\n",
              "\n",
              "    .dataframe tbody tr th {\n",
              "        vertical-align: top;\n",
              "    }\n",
              "\n",
              "    .dataframe thead th {\n",
              "        text-align: right;\n",
              "    }\n",
              "</style>\n",
              "<table border=\"1\" class=\"dataframe\">\n",
              "  <thead>\n",
              "    <tr style=\"text-align: right;\">\n",
              "      <th></th>\n",
              "      <th>State</th>\n",
              "      <th>Account Length</th>\n",
              "      <th>Area Code</th>\n",
              "      <th>Phone</th>\n",
              "      <th>Intl Plan</th>\n",
              "      <th>VMail Plan</th>\n",
              "      <th>VMail Message</th>\n",
              "      <th>Day Mins</th>\n",
              "      <th>Day Calls</th>\n",
              "      <th>Day Charge</th>\n",
              "      <th>...</th>\n",
              "      <th>Eve Calls</th>\n",
              "      <th>Eve Charge</th>\n",
              "      <th>Night Mins</th>\n",
              "      <th>Night Calls</th>\n",
              "      <th>Night Charge</th>\n",
              "      <th>Intl Mins</th>\n",
              "      <th>Intl Calls</th>\n",
              "      <th>Intl Charge</th>\n",
              "      <th>CustServ Calls</th>\n",
              "      <th>Churn</th>\n",
              "    </tr>\n",
              "  </thead>\n",
              "  <tbody>\n",
              "    <tr>\n",
              "      <th>0</th>\n",
              "      <td>KS</td>\n",
              "      <td>128</td>\n",
              "      <td>415</td>\n",
              "      <td>382-4657</td>\n",
              "      <td>no</td>\n",
              "      <td>yes</td>\n",
              "      <td>25</td>\n",
              "      <td>265.1</td>\n",
              "      <td>110</td>\n",
              "      <td>45.07</td>\n",
              "      <td>...</td>\n",
              "      <td>99</td>\n",
              "      <td>16.78</td>\n",
              "      <td>244.7</td>\n",
              "      <td>91</td>\n",
              "      <td>11.01</td>\n",
              "      <td>10.0</td>\n",
              "      <td>3</td>\n",
              "      <td>2.70</td>\n",
              "      <td>1</td>\n",
              "      <td>False.</td>\n",
              "    </tr>\n",
              "    <tr>\n",
              "      <th>1</th>\n",
              "      <td>OH</td>\n",
              "      <td>107</td>\n",
              "      <td>415</td>\n",
              "      <td>371-7191</td>\n",
              "      <td>no</td>\n",
              "      <td>yes</td>\n",
              "      <td>26</td>\n",
              "      <td>161.6</td>\n",
              "      <td>123</td>\n",
              "      <td>27.47</td>\n",
              "      <td>...</td>\n",
              "      <td>103</td>\n",
              "      <td>16.62</td>\n",
              "      <td>254.4</td>\n",
              "      <td>103</td>\n",
              "      <td>11.45</td>\n",
              "      <td>13.7</td>\n",
              "      <td>3</td>\n",
              "      <td>3.70</td>\n",
              "      <td>1</td>\n",
              "      <td>False.</td>\n",
              "    </tr>\n",
              "    <tr>\n",
              "      <th>2</th>\n",
              "      <td>NJ</td>\n",
              "      <td>137</td>\n",
              "      <td>415</td>\n",
              "      <td>358-1921</td>\n",
              "      <td>no</td>\n",
              "      <td>no</td>\n",
              "      <td>0</td>\n",
              "      <td>243.4</td>\n",
              "      <td>114</td>\n",
              "      <td>41.38</td>\n",
              "      <td>...</td>\n",
              "      <td>110</td>\n",
              "      <td>10.30</td>\n",
              "      <td>162.6</td>\n",
              "      <td>104</td>\n",
              "      <td>7.32</td>\n",
              "      <td>12.2</td>\n",
              "      <td>5</td>\n",
              "      <td>3.29</td>\n",
              "      <td>0</td>\n",
              "      <td>False.</td>\n",
              "    </tr>\n",
              "    <tr>\n",
              "      <th>3</th>\n",
              "      <td>OH</td>\n",
              "      <td>84</td>\n",
              "      <td>408</td>\n",
              "      <td>375-9999</td>\n",
              "      <td>yes</td>\n",
              "      <td>no</td>\n",
              "      <td>0</td>\n",
              "      <td>299.4</td>\n",
              "      <td>71</td>\n",
              "      <td>50.90</td>\n",
              "      <td>...</td>\n",
              "      <td>88</td>\n",
              "      <td>5.26</td>\n",
              "      <td>196.9</td>\n",
              "      <td>89</td>\n",
              "      <td>8.86</td>\n",
              "      <td>6.6</td>\n",
              "      <td>7</td>\n",
              "      <td>1.78</td>\n",
              "      <td>2</td>\n",
              "      <td>False.</td>\n",
              "    </tr>\n",
              "    <tr>\n",
              "      <th>4</th>\n",
              "      <td>OK</td>\n",
              "      <td>75</td>\n",
              "      <td>415</td>\n",
              "      <td>330-6626</td>\n",
              "      <td>yes</td>\n",
              "      <td>no</td>\n",
              "      <td>0</td>\n",
              "      <td>166.7</td>\n",
              "      <td>113</td>\n",
              "      <td>28.34</td>\n",
              "      <td>...</td>\n",
              "      <td>122</td>\n",
              "      <td>12.61</td>\n",
              "      <td>186.9</td>\n",
              "      <td>121</td>\n",
              "      <td>8.41</td>\n",
              "      <td>10.1</td>\n",
              "      <td>3</td>\n",
              "      <td>2.73</td>\n",
              "      <td>3</td>\n",
              "      <td>False.</td>\n",
              "    </tr>\n",
              "  </tbody>\n",
              "</table>\n",
              "<p>5 rows × 21 columns</p>\n",
              "</div>"
            ],
            "text/plain": [
              "  State  Account Length  Area Code     Phone Intl Plan VMail Plan  \\\n",
              "0    KS             128        415  382-4657        no        yes   \n",
              "1    OH             107        415  371-7191        no        yes   \n",
              "2    NJ             137        415  358-1921        no         no   \n",
              "3    OH              84        408  375-9999       yes         no   \n",
              "4    OK              75        415  330-6626       yes         no   \n",
              "\n",
              "   VMail Message  Day Mins  Day Calls  Day Charge   ...    Eve Calls  \\\n",
              "0             25     265.1        110       45.07   ...           99   \n",
              "1             26     161.6        123       27.47   ...          103   \n",
              "2              0     243.4        114       41.38   ...          110   \n",
              "3              0     299.4         71       50.90   ...           88   \n",
              "4              0     166.7        113       28.34   ...          122   \n",
              "\n",
              "   Eve Charge  Night Mins  Night Calls  Night Charge  Intl Mins  Intl Calls  \\\n",
              "0       16.78       244.7           91         11.01       10.0           3   \n",
              "1       16.62       254.4          103         11.45       13.7           3   \n",
              "2       10.30       162.6          104          7.32       12.2           5   \n",
              "3        5.26       196.9           89          8.86        6.6           7   \n",
              "4       12.61       186.9          121          8.41       10.1           3   \n",
              "\n",
              "   Intl Charge  CustServ Calls   Churn  \n",
              "0         2.70               1  False.  \n",
              "1         3.70               1  False.  \n",
              "2         3.29               0  False.  \n",
              "3         1.78               2  False.  \n",
              "4         2.73               3  False.  \n",
              "\n",
              "[5 rows x 21 columns]"
            ]
          },
          "metadata": {
            "tags": []
          },
          "execution_count": 54
        }
      ]
    },
    {
      "metadata": {
        "id": "3ER0Jb33ND2d",
        "colab_type": "code",
        "colab": {}
      },
      "cell_type": "code",
      "source": [
        "#data cleanup\n",
        "#change state ,churn international plan and vmail to  to factor\n",
        "data['Churn'] = data['Churn'].astype('category')\n",
        "data['State'] = data['State'].astype('category')\n",
        "data['Intl Plan'] = data['Intl Plan'].astype('category')\n",
        "data['VMail Plan'] = data['VMail Plan'].astype('category')\n",
        "data['Intl Plan'] = np.where(data['Intl Plan'] == 'yes',1,0)\n",
        "data['VMail Plan']= np.where(data['VMail Plan'] == 'yes',1,0)\n",
        "\n",
        "\n",
        "#drop phone column as it will not be beneficial to model creation\n",
        "data = data.drop(['Phone'], axis=1)\n",
        "\n",
        "#convert churn to binary  (0,1)\n",
        "data['Churn'] = np.where(data['Churn'] == 'True.',1,0)\n",
        "\n"
      ],
      "execution_count": 0,
      "outputs": []
    },
    {
      "metadata": {
        "id": "LNjPhTGrxi4J",
        "colab_type": "code",
        "outputId": "ff7c1055-d0a1-4901-f832-6013bccd4802",
        "colab": {
          "base_uri": "https://localhost:8080/",
          "height": 472
        }
      },
      "cell_type": "code",
      "source": [
        "#data should be clean ready for further processing\n",
        "data.info()"
      ],
      "execution_count": 0,
      "outputs": [
        {
          "output_type": "stream",
          "text": [
            "<class 'pandas.core.frame.DataFrame'>\n",
            "RangeIndex: 3333 entries, 0 to 3332\n",
            "Data columns (total 20 columns):\n",
            "State             3333 non-null category\n",
            "Account Length    3333 non-null int64\n",
            "Area Code         3333 non-null int64\n",
            "Intl Plan         3333 non-null int64\n",
            "VMail Plan        3333 non-null int64\n",
            "VMail Message     3333 non-null int64\n",
            "Day Mins          3333 non-null float64\n",
            "Day Calls         3333 non-null int64\n",
            "Day Charge        3333 non-null float64\n",
            "Eve Mins          3333 non-null float64\n",
            "Eve Calls         3333 non-null int64\n",
            "Eve Charge        3333 non-null float64\n",
            "Night Mins        3333 non-null float64\n",
            "Night Calls       3333 non-null int64\n",
            "Night Charge      3333 non-null float64\n",
            "Intl Mins         3333 non-null float64\n",
            "Intl Calls        3333 non-null int64\n",
            "Intl Charge       3333 non-null float64\n",
            "CustServ Calls    3333 non-null int64\n",
            "Churn             3333 non-null int64\n",
            "dtypes: category(1), float64(8), int64(11)\n",
            "memory usage: 501.0 KB\n"
          ],
          "name": "stdout"
        }
      ]
    },
    {
      "metadata": {
        "id": "_oW3-B_owp4w",
        "colab_type": "code",
        "outputId": "8fefb92c-62f5-40e4-92f2-b7d9d03f3c41",
        "colab": {
          "base_uri": "https://localhost:8080/",
          "height": 95
        }
      },
      "cell_type": "code",
      "source": [
        "data.head(1)"
      ],
      "execution_count": 0,
      "outputs": [
        {
          "output_type": "execute_result",
          "data": {
            "text/html": [
              "<div>\n",
              "<style scoped>\n",
              "    .dataframe tbody tr th:only-of-type {\n",
              "        vertical-align: middle;\n",
              "    }\n",
              "\n",
              "    .dataframe tbody tr th {\n",
              "        vertical-align: top;\n",
              "    }\n",
              "\n",
              "    .dataframe thead th {\n",
              "        text-align: right;\n",
              "    }\n",
              "</style>\n",
              "<table border=\"1\" class=\"dataframe\">\n",
              "  <thead>\n",
              "    <tr style=\"text-align: right;\">\n",
              "      <th></th>\n",
              "      <th>State</th>\n",
              "      <th>Account Length</th>\n",
              "      <th>Area Code</th>\n",
              "      <th>Intl Plan</th>\n",
              "      <th>VMail Plan</th>\n",
              "      <th>VMail Message</th>\n",
              "      <th>Day Mins</th>\n",
              "      <th>Day Calls</th>\n",
              "      <th>Day Charge</th>\n",
              "      <th>Eve Mins</th>\n",
              "      <th>Eve Calls</th>\n",
              "      <th>Eve Charge</th>\n",
              "      <th>Night Mins</th>\n",
              "      <th>Night Calls</th>\n",
              "      <th>Night Charge</th>\n",
              "      <th>Intl Mins</th>\n",
              "      <th>Intl Calls</th>\n",
              "      <th>Intl Charge</th>\n",
              "      <th>CustServ Calls</th>\n",
              "      <th>Churn</th>\n",
              "    </tr>\n",
              "  </thead>\n",
              "  <tbody>\n",
              "    <tr>\n",
              "      <th>0</th>\n",
              "      <td>KS</td>\n",
              "      <td>128</td>\n",
              "      <td>415</td>\n",
              "      <td>0</td>\n",
              "      <td>1</td>\n",
              "      <td>25</td>\n",
              "      <td>265.1</td>\n",
              "      <td>110</td>\n",
              "      <td>45.07</td>\n",
              "      <td>197.4</td>\n",
              "      <td>99</td>\n",
              "      <td>16.78</td>\n",
              "      <td>244.7</td>\n",
              "      <td>91</td>\n",
              "      <td>11.01</td>\n",
              "      <td>10.0</td>\n",
              "      <td>3</td>\n",
              "      <td>2.7</td>\n",
              "      <td>1</td>\n",
              "      <td>0</td>\n",
              "    </tr>\n",
              "  </tbody>\n",
              "</table>\n",
              "</div>"
            ],
            "text/plain": [
              "  State  Account Length  Area Code  Intl Plan  VMail Plan  VMail Message  \\\n",
              "0    KS             128        415          0           1             25   \n",
              "\n",
              "   Day Mins  Day Calls  Day Charge  Eve Mins  Eve Calls  Eve Charge  \\\n",
              "0     265.1        110       45.07     197.4         99       16.78   \n",
              "\n",
              "   Night Mins  Night Calls  Night Charge  Intl Mins  Intl Calls  Intl Charge  \\\n",
              "0       244.7           91         11.01       10.0           3          2.7   \n",
              "\n",
              "   CustServ Calls  Churn  \n",
              "0               1      0  "
            ]
          },
          "metadata": {
            "tags": []
          },
          "execution_count": 57
        }
      ]
    },
    {
      "metadata": {
        "id": "gwwm-nskzGsA",
        "colab_type": "text"
      },
      "cell_type": "markdown",
      "source": [
        " **\n",
        "Next step is to look at the data closer.\n",
        "Data Normality Check etc.**"
      ]
    },
    {
      "metadata": {
        "id": "MHjAFdlCzei_",
        "colab_type": "code",
        "colab": {}
      },
      "cell_type": "code",
      "source": [
        "import matplotlib.mlab as mlab\n",
        "import matplotlib.pyplot as plt"
      ],
      "execution_count": 0,
      "outputs": []
    },
    {
      "metadata": {
        "id": "GGQm9LcTzgg6",
        "colab_type": "code",
        "outputId": "e31710cf-a81d-4efa-aa76-401625cd5bd8",
        "colab": {
          "base_uri": "https://localhost:8080/",
          "height": 287
        }
      },
      "cell_type": "code",
      "source": [
        "# Diaply histogra, distribution for each field \n",
        "\n",
        "import warnings\n",
        "warnings.filterwarnings(\"ignore\")\n",
        "\n",
        "#for x in range (1,10):\n",
        "#  _= plt.hist(data.iloc[:,x] , 50, normed=0, facecolor='green', alpha=1)\n",
        "#  plt.legend([list(data)[x]])\n",
        "_= plt.hist(data.iloc[:,1] , 50, normed=0, facecolor='green', alpha=1)\n",
        "plt.legend([list(data)[1]])\n"
      ],
      "execution_count": 0,
      "outputs": [
        {
          "output_type": "execute_result",
          "data": {
            "text/plain": [
              "<matplotlib.legend.Legend at 0x7fcdd65305c0>"
            ]
          },
          "metadata": {
            "tags": []
          },
          "execution_count": 59
        },
        {
          "output_type": "display_data",
          "data": {
            "image/png": "[encoded data removed]",
            "text/plain": [
              "<Figure size 432x288 with 1 Axes>"
            ]
          },
          "metadata": {
            "tags": []
          }
        }
      ]
    },
    {
      "metadata": {
        "id": "IZ1bw_Vq8w0n",
        "colab_type": "code",
        "outputId": "44a3e766-8c61-4e54-f2cf-aa0c3f1b25e5",
        "colab": {
          "base_uri": "https://localhost:8080/",
          "height": 287
        }
      },
      "cell_type": "code",
      "source": [
        "_= plt.hist(data.iloc[:,2] , 50, normed=0, facecolor='green', alpha=1)\n",
        "plt.legend([list(data)[2]])\n"
      ],
      "execution_count": 0,
      "outputs": [
        {
          "output_type": "execute_result",
          "data": {
            "text/plain": [
              "<matplotlib.legend.Legend at 0x7fcdd6494630>"
            ]
          },
          "metadata": {
            "tags": []
          },
          "execution_count": 60
        },
        {
          "output_type": "display_data",
          "data": {
            "image/png": "[encoded data removed]",
            "text/plain": [
              "<Figure size 432x288 with 1 Axes>"
            ]
          },
          "metadata": {
            "tags": []
          }
        }
      ]
    },
    {
      "metadata": {
        "id": "n_A_hGgX8xY_",
        "colab_type": "code",
        "outputId": "e7d87e4d-bbe8-4b52-9268-b8fedf08bfd5",
        "colab": {
          "base_uri": "https://localhost:8080/",
          "height": 287
        }
      },
      "cell_type": "code",
      "source": [
        "_= plt.hist(data.iloc[:,3] , 50, normed=0, facecolor='green', alpha=1)\n",
        "plt.legend([list(data)[3]])"
      ],
      "execution_count": 0,
      "outputs": [
        {
          "output_type": "execute_result",
          "data": {
            "text/plain": [
              "<matplotlib.legend.Legend at 0x7fcdd6414d30>"
            ]
          },
          "metadata": {
            "tags": []
          },
          "execution_count": 61
        },
        {
          "output_type": "display_data",
          "data": {
            "image/png": "[encoded data removed]",
            "text/plain": [
              "<Figure size 432x288 with 1 Axes>"
            ]
          },
          "metadata": {
            "tags": []
          }
        }
      ]
    },
    {
      "metadata": {
        "id": "3OdeSdL28xdk",
        "colab_type": "code",
        "outputId": "5e06936d-2f24-4458-f2d0-b515efea0619",
        "colab": {
          "base_uri": "https://localhost:8080/",
          "height": 287
        }
      },
      "cell_type": "code",
      "source": [
        "_= plt.hist(data.iloc[:,4] , 50, normed=0, facecolor='green', alpha=1)\n",
        "plt.legend([list(data)[4]])\n"
      ],
      "execution_count": 0,
      "outputs": [
        {
          "output_type": "execute_result",
          "data": {
            "text/plain": [
              "<matplotlib.legend.Legend at 0x7fcdd69ca898>"
            ]
          },
          "metadata": {
            "tags": []
          },
          "execution_count": 62
        },
        {
          "output_type": "display_data",
          "data": {
            "image/png": "[encoded data removed]",
            "text/plain": [
              "<Figure size 432x288 with 1 Axes>"
            ]
          },
          "metadata": {
            "tags": []
          }
        }
      ]
    },
    {
      "metadata": {
        "id": "DmS9WQ9E8xii",
        "colab_type": "code",
        "outputId": "877a3022-905c-4ce9-9256-1dc75d84facf",
        "colab": {
          "base_uri": "https://localhost:8080/",
          "height": 287
        }
      },
      "cell_type": "code",
      "source": [
        "_= plt.hist(data.iloc[:,5] , 50, normed=0, facecolor='green', alpha=1)\n",
        "plt.legend([list(data)[5]])"
      ],
      "execution_count": 0,
      "outputs": [
        {
          "output_type": "execute_result",
          "data": {
            "text/plain": [
              "<matplotlib.legend.Legend at 0x7fcdd6232940>"
            ]
          },
          "metadata": {
            "tags": []
          },
          "execution_count": 63
        },
        {
          "output_type": "display_data",
          "data": {
            "image/png": "[encoded data removed]",
            "text/plain": [
              "<Figure size 432x288 with 1 Axes>"
            ]
          },
          "metadata": {
            "tags": []
          }
        }
      ]
    },
    {
      "metadata": {
        "id": "-JM5jJ5g8xmG",
        "colab_type": "code",
        "outputId": "66274f3e-d185-4e48-9c6b-6f1f33219768",
        "colab": {
          "base_uri": "https://localhost:8080/",
          "height": 287
        }
      },
      "cell_type": "code",
      "source": [
        "_= plt.hist(data.iloc[:,6] , 50, normed=0, facecolor='green', alpha=1)\n",
        "plt.legend([list(data)[6]])"
      ],
      "execution_count": 0,
      "outputs": [
        {
          "output_type": "execute_result",
          "data": {
            "text/plain": [
              "<matplotlib.legend.Legend at 0x7fcdd617f8d0>"
            ]
          },
          "metadata": {
            "tags": []
          },
          "execution_count": 64
        },
        {
          "output_type": "display_data",
          "data": {
            "image/png": "[encoded data removed]",
            "text/plain": [
              "<Figure size 432x288 with 1 Axes>"
            ]
          },
          "metadata": {
            "tags": []
          }
        }
      ]
    },
    {
      "metadata": {
        "id": "RmAuG2YI8xsq",
        "colab_type": "code",
        "outputId": "78b3717a-9fc9-4c87-fa6b-d34f5959a894",
        "colab": {
          "base_uri": "https://localhost:8080/",
          "height": 287
        }
      },
      "cell_type": "code",
      "source": [
        "_= plt.hist(data.iloc[:,7] , 50, normed=0, facecolor='green', alpha=1)\n",
        "plt.legend([list(data)[7]])"
      ],
      "execution_count": 0,
      "outputs": [
        {
          "output_type": "execute_result",
          "data": {
            "text/plain": [
              "<matplotlib.legend.Legend at 0x7fcdd63c2048>"
            ]
          },
          "metadata": {
            "tags": []
          },
          "execution_count": 65
        },
        {
          "output_type": "display_data",
          "data": {
            "image/png": "[encoded data removed]",
            "text/plain": [
              "<Figure size 432x288 with 1 Axes>"
            ]
          },
          "metadata": {
            "tags": []
          }
        }
      ]
    },
    {
      "metadata": {
        "id": "StbL927Q5Ea1",
        "colab_type": "code",
        "outputId": "82ea7e9f-df78-44e0-e803-b898c059350c",
        "colab": {
          "base_uri": "https://localhost:8080/",
          "height": 287
        }
      },
      "cell_type": "code",
      "source": [
        "_= plt.hist(data.iloc[:,8] , 50, normed=0, facecolor='green', alpha=1)\n",
        "plt.legend([list(data)[8]])"
      ],
      "execution_count": 0,
      "outputs": [
        {
          "output_type": "execute_result",
          "data": {
            "text/plain": [
              "<matplotlib.legend.Legend at 0x7fcdd617f7f0>"
            ]
          },
          "metadata": {
            "tags": []
          },
          "execution_count": 66
        },
        {
          "output_type": "display_data",
          "data": {
            "image/png": "[encoded data removed]",
            "text/plain": [
              "<Figure size 432x288 with 1 Axes>"
            ]
          },
          "metadata": {
            "tags": []
          }
        }
      ]
    },
    {
      "metadata": {
        "id": "ovVt4tUf-fcH",
        "colab_type": "code",
        "colab": {}
      },
      "cell_type": "code",
      "source": [
        ""
      ],
      "execution_count": 0,
      "outputs": []
    },
    {
      "metadata": {
        "id": "rO-iOyN1-gGv",
        "colab_type": "code",
        "outputId": "cd6e8634-81ab-4713-a9e2-0a0d3f9288e2",
        "colab": {
          "base_uri": "https://localhost:8080/",
          "height": 287
        }
      },
      "cell_type": "code",
      "source": [
        "_= plt.hist(data.iloc[:,9] , 50, normed=0, facecolor='green', alpha=1)\n",
        "plt.legend([list(data)[9]])"
      ],
      "execution_count": 0,
      "outputs": [
        {
          "output_type": "execute_result",
          "data": {
            "text/plain": [
              "<matplotlib.legend.Legend at 0x7fcdd5f46898>"
            ]
          },
          "metadata": {
            "tags": []
          },
          "execution_count": 67
        },
        {
          "output_type": "display_data",
          "data": {
            "image/png": "[encoded data removed]",
            "text/plain": [
              "<Figure size 432x288 with 1 Axes>"
            ]
          },
          "metadata": {
            "tags": []
          }
        }
      ]
    },
    {
      "metadata": {
        "id": "1rj-8YCt-gES",
        "colab_type": "code",
        "outputId": "0d6416e9-72e4-4d1f-ab7b-3d0e05ff9279",
        "colab": {
          "base_uri": "https://localhost:8080/",
          "height": 287
        }
      },
      "cell_type": "code",
      "source": [
        "_= plt.hist(data.iloc[:,10] , 50, normed=0, facecolor='green', alpha=1)\n",
        "plt.legend([list(data)[10]])"
      ],
      "execution_count": 0,
      "outputs": [
        {
          "output_type": "execute_result",
          "data": {
            "text/plain": [
              "<matplotlib.legend.Legend at 0x7fcdd5e8dcf8>"
            ]
          },
          "metadata": {
            "tags": []
          },
          "execution_count": 68
        },
        {
          "output_type": "display_data",
          "data": {
            "image/png": "[encoded data removed]",
            "text/plain": [
              "<Figure size 432x288 with 1 Axes>"
            ]
          },
          "metadata": {
            "tags": []
          }
        }
      ]
    },
    {
      "metadata": {
        "id": "4u8skKVA-gB0",
        "colab_type": "code",
        "outputId": "9ae82d6e-8c66-4ce5-da47-a6cf33e307b6",
        "colab": {
          "base_uri": "https://localhost:8080/",
          "height": 287
        }
      },
      "cell_type": "code",
      "source": [
        "_= plt.hist(data.iloc[:,11] , 50, normed=0, facecolor='green', alpha=1)\n",
        "plt.legend([list(data)[11]])"
      ],
      "execution_count": 0,
      "outputs": [
        {
          "output_type": "execute_result",
          "data": {
            "text/plain": [
              "<matplotlib.legend.Legend at 0x7fcdd5d8aa90>"
            ]
          },
          "metadata": {
            "tags": []
          },
          "execution_count": 69
        },
        {
          "output_type": "display_data",
          "data": {
            "image/png": "[encoded data removed]",
            "text/plain": [
              "<Figure size 432x288 with 1 Axes>"
            ]
          },
          "metadata": {
            "tags": []
          }
        }
      ]
    },
    {
      "metadata": {
        "id": "cAjFdEHS-f_H",
        "colab_type": "code",
        "outputId": "a16ee626-c0b5-4834-a6ed-6ab00941ae2c",
        "colab": {
          "base_uri": "https://localhost:8080/",
          "height": 287
        }
      },
      "cell_type": "code",
      "source": [
        "_= plt.hist(data.iloc[:,12] , 50, normed=0, facecolor='green', alpha=1)\n",
        "plt.legend([list(data)[12]])"
      ],
      "execution_count": 0,
      "outputs": [
        {
          "output_type": "execute_result",
          "data": {
            "text/plain": [
              "<matplotlib.legend.Legend at 0x7fcdd5f5b828>"
            ]
          },
          "metadata": {
            "tags": []
          },
          "execution_count": 70
        },
        {
          "output_type": "display_data",
          "data": {
            "image/png": "[encoded data removed]",
            "text/plain": [
              "<Figure size 432x288 with 1 Axes>"
            ]
          },
          "metadata": {
            "tags": []
          }
        }
      ]
    },
    {
      "metadata": {
        "id": "OdDU4gRR-xxw",
        "colab_type": "code",
        "outputId": "a920a368-c8ee-4ef8-f820-c70eaf9c9000",
        "colab": {
          "base_uri": "https://localhost:8080/",
          "height": 287
        }
      },
      "cell_type": "code",
      "source": [
        "_= plt.hist(data.iloc[:,13] , 50, normed=0, facecolor='green', alpha=1)\n",
        "plt.legend([list(data)[13]])"
      ],
      "execution_count": 0,
      "outputs": [
        {
          "output_type": "execute_result",
          "data": {
            "text/plain": [
              "<matplotlib.legend.Legend at 0x7fcdd5c26128>"
            ]
          },
          "metadata": {
            "tags": []
          },
          "execution_count": 71
        },
        {
          "output_type": "display_data",
          "data": {
            "image/png": "[encoded data removed]",
            "text/plain": [
              "<Figure size 432x288 with 1 Axes>"
            ]
          },
          "metadata": {
            "tags": []
          }
        }
      ]
    },
    {
      "metadata": {
        "id": "letx1pNk-x2F",
        "colab_type": "code",
        "outputId": "d7ddf278-40f0-4c61-878f-531b749cc5ec",
        "colab": {
          "base_uri": "https://localhost:8080/",
          "height": 287
        }
      },
      "cell_type": "code",
      "source": [
        "_= plt.hist(data.iloc[:,14] , 50, normed=0, facecolor='green', alpha=1)\n",
        "plt.legend([list(data)[14]])"
      ],
      "execution_count": 0,
      "outputs": [
        {
          "output_type": "execute_result",
          "data": {
            "text/plain": [
              "<matplotlib.legend.Legend at 0x7fcdd5b15898>"
            ]
          },
          "metadata": {
            "tags": []
          },
          "execution_count": 72
        },
        {
          "output_type": "display_data",
          "data": {
            "image/png": "[encoded data removed]",
            "text/plain": [
              "<Figure size 432x288 with 1 Axes>"
            ]
          },
          "metadata": {
            "tags": []
          }
        }
      ]
    },
    {
      "metadata": {
        "id": "MhG_4VC1-x7w",
        "colab_type": "code",
        "outputId": "2d59ac9b-3f06-4418-bac8-1771ccc28e70",
        "colab": {
          "base_uri": "https://localhost:8080/",
          "height": 287
        }
      },
      "cell_type": "code",
      "source": [
        "_= plt.hist(data.iloc[:,15] , 50, normed=0, facecolor='green', alpha=1)\n",
        "plt.legend([list(data)[15]])"
      ],
      "execution_count": 0,
      "outputs": [
        {
          "output_type": "execute_result",
          "data": {
            "text/plain": [
              "<matplotlib.legend.Legend at 0x7fcdd5a4d9e8>"
            ]
          },
          "metadata": {
            "tags": []
          },
          "execution_count": 73
        },
        {
          "output_type": "display_data",
          "data": {
            "image/png": "[encoded data removed]",
            "text/plain": [
              "<Figure size 432x288 with 1 Axes>"
            ]
          },
          "metadata": {
            "tags": []
          }
        }
      ]
    },
    {
      "metadata": {
        "id": "VeGH4Nx0-yCC",
        "colab_type": "code",
        "outputId": "2c2e5b39-a637-4bdf-b497-19000a7a81c3",
        "colab": {
          "base_uri": "https://localhost:8080/",
          "height": 287
        }
      },
      "cell_type": "code",
      "source": [
        "_= plt.hist(data.iloc[:,16] , 50, normed=0, facecolor='green', alpha=1)\n",
        "plt.legend([list(data)[16]])"
      ],
      "execution_count": 0,
      "outputs": [
        {
          "output_type": "execute_result",
          "data": {
            "text/plain": [
              "<matplotlib.legend.Legend at 0x7fcdd5959780>"
            ]
          },
          "metadata": {
            "tags": []
          },
          "execution_count": 74
        },
        {
          "output_type": "display_data",
          "data": {
            "image/png": "[encoded data removed]",
            "text/plain": [
              "<Figure size 432x288 with 1 Axes>"
            ]
          },
          "metadata": {
            "tags": []
          }
        }
      ]
    },
    {
      "metadata": {
        "id": "XLujwOVA-x_R",
        "colab_type": "code",
        "outputId": "224de1a0-f79e-4b4a-95ff-31243a158adb",
        "colab": {
          "base_uri": "https://localhost:8080/",
          "height": 287
        }
      },
      "cell_type": "code",
      "source": [
        "_= plt.hist(data.iloc[:,17] , 50, normed=0, facecolor='green', alpha=1)\n",
        "plt.legend([list(data)[17]])"
      ],
      "execution_count": 0,
      "outputs": [
        {
          "output_type": "execute_result",
          "data": {
            "text/plain": [
              "<matplotlib.legend.Legend at 0x7fcdd58824e0>"
            ]
          },
          "metadata": {
            "tags": []
          },
          "execution_count": 75
        },
        {
          "output_type": "display_data",
          "data": {
            "image/png": "[encoded data removed]",
            "text/plain": [
              "<Figure size 432x288 with 1 Axes>"
            ]
          },
          "metadata": {
            "tags": []
          }
        }
      ]
    },
    {
      "metadata": {
        "id": "WpqL4FmI_DxQ",
        "colab_type": "code",
        "outputId": "ef5e8bae-6ba6-4be4-f2ad-99ee08194966",
        "colab": {
          "base_uri": "https://localhost:8080/",
          "height": 287
        }
      },
      "cell_type": "code",
      "source": [
        "_= plt.hist(data.iloc[:,18] , 50, normed=0, facecolor='green', alpha=1)\n",
        "plt.legend([list(data)[18]])"
      ],
      "execution_count": 0,
      "outputs": [
        {
          "output_type": "execute_result",
          "data": {
            "text/plain": [
              "<matplotlib.legend.Legend at 0x7fcdd58825c0>"
            ]
          },
          "metadata": {
            "tags": []
          },
          "execution_count": 76
        },
        {
          "output_type": "display_data",
          "data": {
            "image/png": "[encoded data removed]",
            "text/plain": [
              "<Figure size 432x288 with 1 Axes>"
            ]
          },
          "metadata": {
            "tags": []
          }
        }
      ]
    },
    {
      "metadata": {
        "id": "6pEukk0q_D1t",
        "colab_type": "code",
        "outputId": "9c7e619e-8175-4dcd-c801-447e6e92febd",
        "colab": {
          "base_uri": "https://localhost:8080/",
          "height": 287
        }
      },
      "cell_type": "code",
      "source": [
        "_= plt.hist(data.iloc[:,19] , 50, normed=0, facecolor='green', alpha=1)\n",
        "plt.legend([list(data)[19]])"
      ],
      "execution_count": 0,
      "outputs": [
        {
          "output_type": "execute_result",
          "data": {
            "text/plain": [
              "<matplotlib.legend.Legend at 0x7fcdd5738ef0>"
            ]
          },
          "metadata": {
            "tags": []
          },
          "execution_count": 77
        },
        {
          "output_type": "display_data",
          "data": {
            "image/png": "[encoded data removed]",
            "text/plain": [
              "<Figure size 432x288 with 1 Axes>"
            ]
          },
          "metadata": {
            "tags": []
          }
        }
      ]
    },
    {
      "metadata": {
        "id": "foLdseV9UjM1",
        "colab_type": "text"
      },
      "cell_type": "markdown",
      "source": [
        "Churn data is highly imbalanced churn ~500  vs no churn 2,700. It would make send to rebalance the set (will be done later)\n",
        "\n",
        "Finding \"Charge\" and \"Mins\" attributes have linear correlation.\n",
        "\n",
        "Minutes , \"Mins\"\" is considered redundant for each Type and can be removed.\n",
        "Also, dopping \"State\" attribute\n"
      ]
    },
    {
      "metadata": {
        "id": "ZzSxmOsHU2UE",
        "colab_type": "code",
        "colab": {}
      },
      "cell_type": "code",
      "source": [
        "#drop \n",
        "#Day Mins\n",
        "#Eve Mins\n",
        "#Night Mins\t\n",
        "#Intl Mins\t\n",
        "#\n",
        "#and  State\n",
        "data = data.drop(['State','Day Mins','Eve Mins','Night Mins','Intl Mins'], axis=1)\n"
      ],
      "execution_count": 0,
      "outputs": []
    },
    {
      "metadata": {
        "id": "BItssfjPVsxx",
        "colab_type": "text"
      },
      "cell_type": "markdown",
      "source": [
        "**Final Look at the data before building the model**"
      ]
    },
    {
      "metadata": {
        "id": "uvwjr51LV3Pm",
        "colab_type": "code",
        "outputId": "4e9105a1-fd17-48fd-d71b-b96eba28c9bc",
        "colab": {
          "base_uri": "https://localhost:8080/",
          "height": 381
        }
      },
      "cell_type": "code",
      "source": [
        "data.info()"
      ],
      "execution_count": 0,
      "outputs": [
        {
          "output_type": "stream",
          "text": [
            "<class 'pandas.core.frame.DataFrame'>\n",
            "RangeIndex: 3333 entries, 0 to 3332\n",
            "Data columns (total 15 columns):\n",
            "Account Length    3333 non-null int64\n",
            "Area Code         3333 non-null int64\n",
            "Intl Plan         3333 non-null int64\n",
            "VMail Plan        3333 non-null int64\n",
            "VMail Message     3333 non-null int64\n",
            "Day Calls         3333 non-null int64\n",
            "Day Charge        3333 non-null float64\n",
            "Eve Calls         3333 non-null int64\n",
            "Eve Charge        3333 non-null float64\n",
            "Night Calls       3333 non-null int64\n",
            "Night Charge      3333 non-null float64\n",
            "Intl Calls        3333 non-null int64\n",
            "Intl Charge       3333 non-null float64\n",
            "CustServ Calls    3333 non-null int64\n",
            "Churn             3333 non-null int64\n",
            "dtypes: float64(4), int64(11)\n",
            "memory usage: 390.7 KB\n"
          ],
          "name": "stdout"
        }
      ]
    },
    {
      "metadata": {
        "id": "MUQYOX-_ZLuT",
        "colab_type": "code",
        "colab": {}
      },
      "cell_type": "code",
      "source": [
        "#from sklearn.model_selection import train_test_split  80/20 split\n",
        "train_set, test_set = train_test_split( data, test_size=0.2, random_state=44)"
      ],
      "execution_count": 0,
      "outputs": []
    },
    {
      "metadata": {
        "id": "OecDLxw8YvtU",
        "colab_type": "code",
        "colab": {}
      },
      "cell_type": "code",
      "source": [
        "#**********************  CHURN = y  ***********************\n",
        "target = 'Churn'\n",
        "features = list(data.columns)\n",
        "features = [f for f in features if f!=target]"
      ],
      "execution_count": 0,
      "outputs": []
    },
    {
      "metadata": {
        "id": "w0ywE3xXYv72",
        "colab_type": "code",
        "outputId": "521eafe9-0188-45dc-b2fd-73b729e63f5c",
        "colab": {
          "base_uri": "https://localhost:8080/",
          "height": 272
        }
      },
      "cell_type": "code",
      "source": [
        "features"
      ],
      "execution_count": 0,
      "outputs": [
        {
          "output_type": "execute_result",
          "data": {
            "text/plain": [
              "['Account Length',\n",
              " 'Area Code',\n",
              " 'Intl Plan',\n",
              " 'VMail Plan',\n",
              " 'VMail Message',\n",
              " 'Day Calls',\n",
              " 'Day Charge',\n",
              " 'Eve Calls',\n",
              " 'Eve Charge',\n",
              " 'Night Calls',\n",
              " 'Night Charge',\n",
              " 'Intl Calls',\n",
              " 'Intl Charge',\n",
              " 'CustServ Calls']"
            ]
          },
          "metadata": {
            "tags": []
          },
          "execution_count": 82
        }
      ]
    },
    {
      "metadata": {
        "id": "JusLqpEiYvqF",
        "colab_type": "code",
        "colab": {}
      },
      "cell_type": "code",
      "source": [
        "#pass  dataset to Keros\n",
        "#train_set=data\n",
        "\n",
        "#Create training set \n",
        "X_tr = train_set[features]\n",
        "y_tr = train_set[[target]]\n",
        "#create test set\n",
        "X_te = test_set[features]\n",
        "y_te = test_set[[target]]"
      ],
      "execution_count": 0,
      "outputs": []
    },
    {
      "metadata": {
        "id": "svUmypMeg6SG",
        "colab_type": "code",
        "colab": {}
      },
      "cell_type": "code",
      "source": [
        "#VERY Important! scale data between 0,1\n",
        "from sklearn.preprocessing import MinMaxScaler\n",
        "scaler = MinMaxScaler(feature_range=(0, 1))\n",
        "\n",
        "X_tr = scaler.fit_transform(X_tr)\n",
        "X_tr = pd.DataFrame(X_tr)\n",
        "\n",
        "X_te = scaler.fit_transform(X_te)\n",
        "X_te = pd.DataFrame(X_te)\n"
      ],
      "execution_count": 0,
      "outputs": []
    },
    {
      "metadata": {
        "id": "l2DbO4pjvI39",
        "colab_type": "code",
        "colab": {}
      },
      "cell_type": "code",
      "source": [
        "y_tr=keras.utils.to_categorical(y_tr)\n",
        "y_teo=y_te\n",
        "y_te = keras.utils.to_categorical(y_te)\n"
      ],
      "execution_count": 0,
      "outputs": []
    },
    {
      "metadata": {
        "id": "cELJnR8IWiAv",
        "colab_type": "code",
        "colab": {}
      },
      "cell_type": "code",
      "source": [
        "#START BUILDING THE MODEL\n",
        "from keras.models import Sequential\n",
        "from keras.layers import Dense, Dropout, Activation\n",
        "\n",
        "from keras.wrappers.scikit_learn import KerasClassifier\n",
        "from keras.utils import np_utils\n",
        "from sklearn.model_selection import cross_val_score\n",
        "from sklearn.model_selection import KFold\n",
        "from sklearn.preprocessing import LabelEncoder\n",
        "from sklearn.pipeline import Pipeline\n",
        "\n",
        "#output classes (churn: yes,no)\n",
        "classes=2\n",
        "# define baseline model\n",
        "def baseline_model_churn():\n",
        "\t# create model\n",
        "\tmodel= Sequential()\n",
        "\tmodel.add(Dense(20,input_dim=len(data.columns)-1,activation='relu')) \n",
        "  # 20 neurons 15 attributes\n",
        "  #removed this node as is was causing overfit\n",
        "\tmodel.add(Dense(10,activation='relu')) \n",
        "\tmodel.add(Dense(4,activation='relu')) \n",
        "\tmodel.add(Dense(classes,kernel_initializer = 'uniform',activation='sigmoid'))\n",
        "\t# Compile model\n",
        "\tmodel.compile(loss='categorical_crossentropy', optimizer='adam', metrics=['accuracy'])\n",
        "  \n",
        "\t#using adam optimizer\n",
        "\treturn model"
      ],
      "execution_count": 0,
      "outputs": []
    },
    {
      "metadata": {
        "id": "X2TlZVgPEyOt",
        "colab_type": "code",
        "colab": {}
      },
      "cell_type": "code",
      "source": [
        "# model\n",
        "model = baseline_model_churn()\n",
        "history = model.fit( X_tr, y_tr, validation_split=0.2, epochs=200, batch_size=10, verbose=0)\n",
        "# list all data in history  model.\n"
      ],
      "execution_count": 0,
      "outputs": []
    },
    {
      "metadata": {
        "id": "xUatr3-FWUs_",
        "colab_type": "code",
        "outputId": "e1ec3a80-6bdf-4c75-f2a1-a52b9f7d227a",
        "colab": {
          "base_uri": "https://localhost:8080/",
          "height": 314
        }
      },
      "cell_type": "code",
      "source": [
        "print(history.history.keys())\n",
        "plt.plot(history.history['acc'])\n",
        "plt.plot(history.history['val_acc'])\n",
        "plt.title('model accuracy')\n",
        "plt.ylabel('accuracy')\n",
        "plt.xlabel('epoch')\n",
        "plt.legend(['train', 'test'], loc='lower right')\n",
        "plt.show()"
      ],
      "execution_count": 0,
      "outputs": [
        {
          "output_type": "stream",
          "text": [
            "dict_keys(['val_loss', 'val_acc', 'loss', 'acc'])\n"
          ],
          "name": "stdout"
        },
        {
          "output_type": "display_data",
          "data": {
            "image/png": "[encoded data removed]",
            "text/plain": [
              "<Figure size 432x288 with 1 Axes>"
            ]
          },
          "metadata": {
            "tags": []
          }
        }
      ]
    },
    {
      "metadata": {
        "id": "5bvi_Hj_WqOW",
        "colab_type": "code",
        "outputId": "2e6fd34b-2078-4bb0-82a8-6afab351c475",
        "colab": {
          "base_uri": "https://localhost:8080/",
          "height": 295
        }
      },
      "cell_type": "code",
      "source": [
        "# summarize history for loss\n",
        "plt.plot(history.history['loss'])\n",
        "plt.plot(history.history['val_loss'])\n",
        "plt.title('model loss')\n",
        "plt.ylabel('loss')\n",
        "plt.xlabel('epoch')\n",
        "plt.legend(['train', 'test'], loc='upper right')\n",
        "plt.show()"
      ],
      "execution_count": 0,
      "outputs": [
        {
          "output_type": "display_data",
          "data": {
            "image/png": "[encoded data removed]",
            "text/plain": [
              "<Figure size 432x288 with 1 Axes>"
            ]
          },
          "metadata": {
            "tags": []
          }
        }
      ]
    },
    {
      "metadata": {
        "id": "VH6mTVYMfyXx",
        "colab_type": "code",
        "colab": {}
      },
      "cell_type": "code",
      "source": [
        "\n",
        "\n",
        "#Now same using Keras Classifier wth KFold\n",
        "##\n",
        "##\n",
        "##\n",
        "estimator = KerasClassifier(build_fn=baseline_model_churn, epochs=100, batch_size=10, verbose=0)"
      ],
      "execution_count": 0,
      "outputs": []
    },
    {
      "metadata": {
        "id": "wobF4c2kt3f7",
        "colab_type": "code",
        "colab": {}
      },
      "cell_type": "code",
      "source": [
        "seed= 34\n",
        "kfold = KFold(n_splits=2, shuffle=True, random_state=seed)\n"
      ],
      "execution_count": 0,
      "outputs": []
    },
    {
      "metadata": {
        "id": "VtM8cAVjFvkW",
        "colab_type": "code",
        "colab": {}
      },
      "cell_type": "code",
      "source": [
        "results = cross_val_score(estimator, X_tr, y_tr, cv=kfold)\n",
        "\n"
      ],
      "execution_count": 0,
      "outputs": []
    },
    {
      "metadata": {
        "id": "jv07BJ05F8na",
        "colab_type": "code",
        "outputId": "5b404a4d-8ee0-42fc-a61b-f5259afcec0a",
        "colab": {
          "base_uri": "https://localhost:8080/",
          "height": 35
        }
      },
      "cell_type": "code",
      "source": [
        "print(\"Baseline: %.2f%% (%.2f%%)\" % (results.mean()*100, results.std()*100))"
      ],
      "execution_count": 0,
      "outputs": [
        {
          "output_type": "stream",
          "text": [
            "Baseline: 90.85% (0.75%)\n"
          ],
          "name": "stdout"
        }
      ]
    },
    {
      "metadata": {
        "id": "IZswECQwfoLm",
        "colab_type": "code",
        "outputId": "54892b72-8a08-4ac4-e2a6-14f94d28fca3",
        "colab": {
          "base_uri": "https://localhost:8080/",
          "height": 35
        }
      },
      "cell_type": "code",
      "source": [
        "#Confution Matrix and Classification Report\n",
        "from sklearn.metrics import classification_report, confusion_matrix,accuracy_score\n",
        "\n",
        "test_loss, test_acc = model.evaluate(X_te, y_te)\n",
        "\n"
      ],
      "execution_count": 0,
      "outputs": [
        {
          "output_type": "stream",
          "text": [
            "667/667 [==============================] - 0s 33us/step\n"
          ],
          "name": "stdout"
        }
      ]
    },
    {
      "metadata": {
        "id": "2rOW_Mwhd42z",
        "colab_type": "code",
        "outputId": "27b0c6bf-5c03-432f-c615-7c68f74fad1a",
        "colab": {
          "base_uri": "https://localhost:8080/",
          "height": 35
        }
      },
      "cell_type": "code",
      "source": [
        "print('Churn Test accuracy:', test_acc*100)"
      ],
      "execution_count": 0,
      "outputs": [
        {
          "output_type": "stream",
          "text": [
            "Churn Test accuracy: 91.30434776353336\n"
          ],
          "name": "stdout"
        }
      ]
    },
    {
      "metadata": {
        "id": "yE04ZMifkoBt",
        "colab_type": "code",
        "colab": {}
      },
      "cell_type": "code",
      "source": [
        "Y_pred = model.predict(X_te)\n",
        "y_pred = np.argmax(Y_pred, axis=1)\n"
      ],
      "execution_count": 0,
      "outputs": []
    },
    {
      "metadata": {
        "id": "-7e7x09zrHbk",
        "colab_type": "code",
        "outputId": "070df74c-af8d-4c1c-a2cd-ae4355cf826b",
        "colab": {
          "base_uri": "https://localhost:8080/",
          "height": 325
        }
      },
      "cell_type": "code",
      "source": [
        "#Let'ss create confusion matrix\n",
        "import matplotlib.pyplot as plt\n",
        "\n",
        "labels = [ 0,1]\n",
        "y_te1 = np.argmax(y_teo, axis=1)\n",
        "cm = confusion_matrix(y_te1, y_pred, labels)\n",
        "print(cm)\n",
        "\n",
        "fig = plt.figure()\n",
        "ax = fig.add_subplot(111)\n",
        "cax = ax.matshow(cm)\n",
        "plt.title('Confusion matrix of the Churn Classifier')\n",
        "fig.colorbar(cax)\n",
        "ax.set_xticklabels([''] + labels)\n",
        "ax.set_yticklabels([''] + labels)\n",
        "plt.xlabel('Predicted')\n",
        "plt.ylabel('True')\n",
        "plt.show()\n",
        "\n"
      ],
      "execution_count": 0,
      "outputs": [
        {
          "output_type": "stream",
          "text": [
            "[[587  80]\n",
            " [  0   0]]\n"
          ],
          "name": "stdout"
        },
        {
          "output_type": "display_data",
          "data": {
            "image/png": "[encoded data removed]",
            "text/plain": [
              "<Figure size 432x288 with 2 Axes>"
            ]
          },
          "metadata": {
            "tags": []
          }
        }
      ]
    },
    {
      "metadata": {
        "id": "lHjNz7FPzfmQ",
        "colab_type": "text"
      },
      "cell_type": "markdown",
      "source": [
        "Conclusion:\n",
        "Tried various configurations. Overall accuracy of the model performs > 88%, however, confusion matrix is not showing Churn correctly... needs more work.\n",
        "\n",
        "It was very good exercise for me. \n",
        "In this project I was able to evaluate Telecom data and prepare classification model template that can be used for other projects.\n",
        "\n",
        "Next steps enhancements: \n",
        "- ability to save the model and restore/use it\n",
        "\n"
      ]
    }
  ]
}